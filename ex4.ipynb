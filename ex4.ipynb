{
 "cells": [
  {
   "cell_type": "markdown",
   "id": "06856bee",
   "metadata": {},
   "source": [
    "### Exercici 4"
   ]
  },
  {
   "cell_type": "markdown",
   "id": "e8e4e333",
   "metadata": {},
   "source": [
    "##### Programa que donada una llista qualsevol, et digui si es simètrica o no. Si ho és, que et digui quants elements té."
   ]
  },
  {
   "cell_type": "markdown",
   "id": "e99941a8",
   "metadata": {},
   "source": [
    "En aquest cas he optat per una llista d'enters generada a l'atzar"
   ]
  },
  {
   "cell_type": "code",
   "execution_count": null,
   "id": "7bb160ab",
   "metadata": {},
   "outputs": [],
   "source": [
    "import numpy as np\n",
    "import random"
   ]
  },
  {
   "cell_type": "code",
   "execution_count": null,
   "id": "b0b69f77",
   "metadata": {},
   "outputs": [],
   "source": [
    "length = random.randint(5, 8)\n",
    "\n",
    "lst = np.random.randint(0,2, size=length)\n",
    "print(lst)\n",
    "\n",
    "list1=list(lst)"
   ]
  },
  {
   "cell_type": "code",
   "execution_count": null,
   "id": "5bb32aa3",
   "metadata": {},
   "outputs": [],
   "source": [
    "# condicional per partir la llista original en dos llistes noves segons hi hagi un nombre parell o senar d'elements\n",
    "if len(list1)%2 != 0:\n",
    "    aa = int(len(list1) / 2)\n",
    "    bb = int(len(list1) / 2 + 1)\n",
    "else:\n",
    "    aa = int(len(list1) / 2)\n",
    "    bb = int(len(list1) / 2)"
   ]
  },
  {
   "cell_type": "code",
   "execution_count": null,
   "id": "c823925d",
   "metadata": {},
   "outputs": [],
   "source": [
    "listA = list1[:aa]\n",
    "listB = list1[bb:]\n",
    "print(listA)\n",
    "listB.reverse()\n",
    "print(listB)"
   ]
  },
  {
   "cell_type": "code",
   "execution_count": null,
   "id": "1fdb9e09",
   "metadata": {},
   "outputs": [],
   "source": [
    "if listA == listB:\n",
    "    print('la llista SÍ és cap-i-cua i conté', aa+bb, 'elements')\n",
    "else:\n",
    "    print(\"la llista NO és cap-i-cua\")"
   ]
  },
  {
   "cell_type": "code",
   "execution_count": null,
   "id": "f0a8c2d2",
   "metadata": {},
   "outputs": [],
   "source": []
  }
 ],
 "metadata": {
  "kernelspec": {
   "display_name": "Python 3",
   "language": "python",
   "name": "python3"
  },
  "language_info": {
   "codemirror_mode": {
    "name": "ipython",
    "version": 3
   },
   "file_extension": ".py",
   "mimetype": "text/x-python",
   "name": "python",
   "nbconvert_exporter": "python",
   "pygments_lexer": "ipython3",
   "version": "3.8.5"
  }
 },
 "nbformat": 4,
 "nbformat_minor": 5
}
