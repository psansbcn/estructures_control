{
 "cells": [
  {
   "cell_type": "markdown",
   "id": "b83e4fc5",
   "metadata": {},
   "source": [
    "### Exercici1"
   ]
  },
  {
   "cell_type": "markdown",
   "id": "3819f04b",
   "metadata": {},
   "source": [
    "#### Crear un programa que et classifiqui una variable numèrica en funció de l’escala Suspès/Aprovat/Notable/Excel·lent"
   ]
  },
  {
   "cell_type": "code",
   "execution_count": null,
   "id": "6cd16b53",
   "metadata": {},
   "outputs": [],
   "source": [
    "for x in range(0,11):\n",
    "    if x <=4:\n",
    "        print(x, 'Suspès')\n",
    "    elif x==5:\n",
    "        print(x, 'Aprovat')\n",
    "    elif x==6:\n",
    "        print(x, 'Bé')\n",
    "    elif x<=8 and x>5:\n",
    "        print(x, 'Notable')\n",
    "    else:\n",
    "        print(x, 'Excel·lent')"
   ]
  },
  {
   "cell_type": "code",
   "execution_count": null,
   "id": "0673faa9",
   "metadata": {},
   "outputs": [],
   "source": []
  }
 ],
 "metadata": {
  "kernelspec": {
   "display_name": "Python 3",
   "language": "python",
   "name": "python3"
  },
  "language_info": {
   "codemirror_mode": {
    "name": "ipython",
    "version": 3
   },
   "file_extension": ".py",
   "mimetype": "text/x-python",
   "name": "python",
   "nbconvert_exporter": "python",
   "pygments_lexer": "ipython3",
   "version": "3.8.5"
  }
 },
 "nbformat": 4,
 "nbformat_minor": 5
}
