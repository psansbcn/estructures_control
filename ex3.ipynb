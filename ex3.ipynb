{
 "cells": [
  {
   "cell_type": "markdown",
   "id": "553bc881",
   "metadata": {},
   "source": [
    "### Exercici 3"
   ]
  },
  {
   "cell_type": "markdown",
   "id": "8e8c17fd",
   "metadata": {},
   "source": [
    "#### Crea un programa que et pregunti el teu nom, i et demani un número. Si el número és 0, hauria de mostrar un missatge d’error. En cas contrari, hauria de mostrar el nom repetit"
   ]
  },
  {
   "cell_type": "code",
   "execution_count": null,
   "id": "80c51c07",
   "metadata": {},
   "outputs": [],
   "source": [
    "nom = input('Introdueix el teu nom: ')\n",
    "\n",
    "while True:\n",
    "    num = input('Introdueix un número major que 0 i menor que 100: ')\n",
    "    try:\n",
    "        num1 = int(num)\n",
    "        if num1 == 0:\n",
    "            print('error')\n",
    "        elif num1 <= 100:\n",
    "            print('{} '.format(nom) * num1)\n",
    "        else:\n",
    "            print('el número és massa gran')\n",
    "            continue\n",
    "        break\n",
    "    except:\n",
    "        print('Error, no has entrat un número. Entra\\'l de nou')\n",
    "        continue"
   ]
  },
  {
   "cell_type": "code",
   "execution_count": null,
   "id": "75478bb8",
   "metadata": {},
   "outputs": [],
   "source": []
  }
 ],
 "metadata": {
  "kernelspec": {
   "display_name": "Python 3",
   "language": "python",
   "name": "python3"
  },
  "language_info": {
   "codemirror_mode": {
    "name": "ipython",
    "version": 3
   },
   "file_extension": ".py",
   "mimetype": "text/x-python",
   "name": "python",
   "nbconvert_exporter": "python",
   "pygments_lexer": "ipython3",
   "version": "3.8.5"
  }
 },
 "nbformat": 4,
 "nbformat_minor": 5
}
