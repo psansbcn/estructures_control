{
 "cells": [
  {
   "cell_type": "markdown",
   "id": "fc43f4f1",
   "metadata": {},
   "source": [
    "### Exercici 4"
   ]
  },
  {
   "cell_type": "markdown",
   "id": "374f07e6",
   "metadata": {},
   "source": [
    "#### Crea un programa que donada una llista, et digui quants números coincideixen amb la seva posició"
   ]
  },
  {
   "cell_type": "code",
   "execution_count": null,
   "id": "9da317ed",
   "metadata": {},
   "outputs": [],
   "source": [
    "import numpy as np\n",
    "import random"
   ]
  },
  {
   "cell_type": "code",
   "execution_count": null,
   "id": "ada597ff",
   "metadata": {},
   "outputs": [],
   "source": [
    "llarg = random.randint(5, 12)\n",
    "\n",
    "lst1 = np.random.randint(0,18, size=llarg)\n",
    "print(lst1)\n",
    "\n",
    "list1=list(lst1)\n",
    "n=0\n",
    "coin=list()\n",
    "for pos in list1:\n",
    "    if pos == n:\n",
    "        coin.append(pos)\n",
    "    n = n+1\n",
    "if not coin:\n",
    "  print(\"Cap número coincideix\")\n",
    "else:\n",
    "    print('el(s) número(s)',coin,'coincideix(en) a la seva posició')"
   ]
  },
  {
   "cell_type": "code",
   "execution_count": null,
   "id": "118064ed",
   "metadata": {},
   "outputs": [],
   "source": []
  }
 ],
 "metadata": {
  "kernelspec": {
   "display_name": "Python 3",
   "language": "python",
   "name": "python3"
  },
  "language_info": {
   "codemirror_mode": {
    "name": "ipython",
    "version": 3
   },
   "file_extension": ".py",
   "mimetype": "text/x-python",
   "name": "python",
   "nbconvert_exporter": "python",
   "pygments_lexer": "ipython3",
   "version": "3.8.5"
  }
 },
 "nbformat": 4,
 "nbformat_minor": 5
}
