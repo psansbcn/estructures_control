{
 "cells": [
  {
   "cell_type": "markdown",
   "id": "3a299932",
   "metadata": {},
   "source": [
    "### Exercici 2"
   ]
  },
  {
   "cell_type": "markdown",
   "id": "679bb988",
   "metadata": {},
   "source": [
    "#### Programa que et pregunti dos números. T’ha de mostrar un missatge dient si el primer és més gran, el segon és més gran o són iguals"
   ]
  },
  {
   "cell_type": "code",
   "execution_count": null,
   "id": "63d814c9",
   "metadata": {},
   "outputs": [],
   "source": [
    "while True:\n",
    "    a, b = input('Introdueix un número') , input('Introdueix un segon número')\n",
    "    try:\n",
    "        aa=float(a)\n",
    "        bb=float(b)\n",
    "        if aa > bb:\n",
    "            print(aa, 'és més gran que' , bb)\n",
    "        elif aa < bb:\n",
    "            print(aa, 'és més petit que' , bb)\n",
    "        else:\n",
    "            print(aa, 'és igual que', bb)\n",
    "        break\n",
    "    except:\n",
    "        print('Error, no has entrat un número. Entra\\'ls de nou')\n",
    "        continue"
   ]
  },
  {
   "cell_type": "code",
   "execution_count": null,
   "id": "af247dbb",
   "metadata": {},
   "outputs": [],
   "source": []
  }
 ],
 "metadata": {
  "kernelspec": {
   "display_name": "Python 3",
   "language": "python",
   "name": "python3"
  },
  "language_info": {
   "codemirror_mode": {
    "name": "ipython",
    "version": 3
   },
   "file_extension": ".py",
   "mimetype": "text/x-python",
   "name": "python",
   "nbconvert_exporter": "python",
   "pygments_lexer": "ipython3",
   "version": "3.8.5"
  }
 },
 "nbformat": 4,
 "nbformat_minor": 5
}
